{
 "cells": [
  {
   "cell_type": "markdown",
   "id": "ac622319",
   "metadata": {},
   "source": [
    "# Descriptive statistics problems"
   ]
  },
  {
   "cell_type": "markdown",
   "id": "5e0ab0d5",
   "metadata": {},
   "source": [
    "### Exercise 1\n",
    "\n",
    "We will use NumPy to obtain information to describe statistically.\n",
    "\n",
    "- Generate an array of 100 elements following a normal distribution.\n",
    "- Generate an array of 100 elements following a chi-square distribution with 3 degrees of freedom.\n",
    "- Calculate the main metrics and statistical measures that best describe the two vectors."
   ]
  },
  {
   "cell_type": "code",
   "execution_count": 2,
   "id": "34720ab6",
   "metadata": {},
   "outputs": [],
   "source": [
    "import numpy as np\n",
    "import matplotlib.pyplot as plt\n"
   ]
  },
  {
   "cell_type": "code",
   "execution_count": 39,
   "id": "2454e551",
   "metadata": {},
   "outputs": [
    {
     "name": "stdout",
     "output_type": "stream",
     "text": [
      "53.93\n",
      "53.93\n",
      "2.9493853477361553\n",
      "2.9493853477361545\n",
      "56.0\n",
      "54.5\n",
      "2.504886197650115\n",
      "2.450623488896329\n",
      "29.168702959220386\n",
      "29.022493001118974\n",
      "2.3252896857602336\n",
      "2.3136340249650336\n",
      "850.8132323232321\n",
      "842.3050999999999\n",
      "5.406972122702926\n",
      "5.352902401475901\n"
     ]
    }
   ],
   "source": [
    "n_elements = 100\n",
    "\n",
    "normal_distribution = np.random.randint(0,100,size=n_elements)\n",
    "chi_square_distribution = np.random.chisquare(size=n_elements, df=3)\n",
    "\n",
    "def media(val):\n",
    "    total = 0\n",
    "    count = 0\n",
    "    for i in val:\n",
    "        total += i\n",
    "        count += 1\n",
    "    return total/count\n",
    "\n",
    "\n",
    "print(media(normal_distribution))\n",
    "print(np.mean(normal_distribution))\n",
    "print(media(chi_square_distribution))\n",
    "print(np.mean(chi_square_distribution))\n",
    "\n",
    "def mediana(val):\n",
    "    if val.size %2 != 0:\n",
    "        return np.sort(val)[int(val.size/2)+1]\n",
    "    else:\n",
    "        return (np.sort(val)[int(val.size/2)] + np.sort(val)[int(val.size/2)+1])/2\n",
    "\n",
    "\n",
    "print(mediana(normal_distribution))\n",
    "print(np.median(normal_distribution))\n",
    "print(mediana(chi_square_distribution))\n",
    "print(np.median(chi_square_distribution))\n",
    "\n",
    "\n",
    "def normal_des(val):\n",
    "    med = media(val)\n",
    "    summatory = 0\n",
    "    for i in val:\n",
    "        summatory += (i - med)**2\n",
    "    return float((summatory/(len(val) - 1))**0.5)\n",
    "     \n",
    "print(normal_des(normal_distribution))\n",
    "print(np.std(normal_distribution))\n",
    "print(normal_des(chi_square_distribution))\n",
    "print(np.std(chi_square_distribution))\n",
    "\n",
    "def varian(val):\n",
    "    return normal_des(val)**2\n",
    "\n",
    "print(varian(normal_distribution))\n",
    "print(np.var(normal_distribution))\n",
    "print(varian(chi_square_distribution))\n",
    "print(np.var(chi_square_distribution))\n",
    "\n"
   ]
  },
  {
   "cell_type": "markdown",
   "id": "46c70c3d",
   "metadata": {},
   "source": [
    "### Exercise 2\n",
    "\n",
    "Write a Python program to calculate the standard deviation of the following data:\n",
    "\n",
    "```py\n",
    "data = [4, 2, 5, 8, 6]\n",
    "```"
   ]
  },
  {
   "cell_type": "code",
   "execution_count": 37,
   "id": "d590308e",
   "metadata": {},
   "outputs": [
    {
     "name": "stdout",
     "output_type": "stream",
     "text": [
      "2.23606797749979\n",
      "2.0\n"
     ]
    }
   ],
   "source": [
    "data = [4, 2, 5, 8, 6]\n",
    "\n",
    "print(normal_des(data))\n",
    "print(np.std(data))"
   ]
  }
 ],
 "metadata": {
  "kernelspec": {
   "display_name": "Python 3",
   "language": "python",
   "name": "python3"
  },
  "language_info": {
   "codemirror_mode": {
    "name": "ipython",
    "version": 3
   },
   "file_extension": ".py",
   "mimetype": "text/x-python",
   "name": "python",
   "nbconvert_exporter": "python",
   "pygments_lexer": "ipython3",
   "version": "3.11.4"
  }
 },
 "nbformat": 4,
 "nbformat_minor": 5
}
